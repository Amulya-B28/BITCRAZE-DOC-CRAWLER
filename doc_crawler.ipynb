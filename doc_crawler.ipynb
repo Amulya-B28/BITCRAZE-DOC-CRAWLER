{
  "nbformat": 4,
  "nbformat_minor": 0,
  "metadata": {
    "colab": {
      "provenance": [],
      "toc_visible": true,
      "mount_file_id": "1oEAKXd6h4pbroG3cXTBP2pwQcFtFpuzB",
      "authorship_tag": "ABX9TyP9HqSZvGWgZAt+gULcd+SA",
      "include_colab_link": true
    },
    "kernelspec": {
      "name": "python3",
      "display_name": "Python 3"
    },
    "language_info": {
      "name": "python"
    }
  },
  "cells": [
    {
      "cell_type": "markdown",
      "metadata": {
        "id": "view-in-github",
        "colab_type": "text"
      },
      "source": [
        "<a href=\"https://colab.research.google.com/github/Amulya-B28/BITCRAZE-DOC-CRAWLER/blob/main/Untitled3.ipynb\" target=\"_parent\"><img src=\"https://colab.research.google.com/assets/colab-badge.svg\" alt=\"Open In Colab\"/></a>"
      ]
    },
    {
      "cell_type": "markdown",
      "source": [
        "# ** Document crawler and analyzer using Agentic Al framework**"
      ],
      "metadata": {
        "id": "gLPnJp94ozR6"
      }
    },
    {
      "cell_type": "markdown",
      "source": [
        "## **TASK 1**\n",
        "###Document Metadata Extraction\n",
        "- Extract critical pre-defined metadata from multiple PDF documents in a folder.\n",
        "- Store the extracted information in CSV/Excel format."
      ],
      "metadata": {
        "id": "MECvdNJyqZgy"
      }
    },
    {
      "cell_type": "code",
      "source": [
        "!pip install fpdf"
      ],
      "metadata": {
        "colab": {
          "base_uri": "https://localhost:8080/"
        },
        "id": "5_-5UrrrkN3g",
        "outputId": "c9a845c1-44dd-49f4-9735-f7fdc9660154"
      },
      "execution_count": 1,
      "outputs": [
        {
          "output_type": "stream",
          "name": "stdout",
          "text": [
            "Collecting fpdf\n",
            "  Downloading fpdf-1.7.2.tar.gz (39 kB)\n",
            "  Preparing metadata (setup.py) ... \u001b[?25l\u001b[?25hdone\n",
            "Building wheels for collected packages: fpdf\n",
            "  Building wheel for fpdf (setup.py) ... \u001b[?25l\u001b[?25hdone\n",
            "  Created wheel for fpdf: filename=fpdf-1.7.2-py2.py3-none-any.whl size=40704 sha256=af5d43ab4ae7e78556b3274d0c33fb0e03973df3961190f04e875380c38bd876\n",
            "  Stored in directory: /root/.cache/pip/wheels/65/4f/66/bbda9866da446a72e206d6484cd97381cbc7859a7068541c36\n",
            "Successfully built fpdf\n",
            "Installing collected packages: fpdf\n",
            "Successfully installed fpdf-1.7.2\n"
          ]
        }
      ]
    },
    {
      "cell_type": "code",
      "source": [
        "!pip install faker"
      ],
      "metadata": {
        "colab": {
          "base_uri": "https://localhost:8080/"
        },
        "id": "msGn7mZvkizD",
        "outputId": "cd90ef3f-3387-4f99-e52e-126e766fd2c0"
      },
      "execution_count": 2,
      "outputs": [
        {
          "output_type": "stream",
          "name": "stdout",
          "text": [
            "Collecting faker\n",
            "  Downloading faker-37.1.0-py3-none-any.whl.metadata (15 kB)\n",
            "Requirement already satisfied: tzdata in /usr/local/lib/python3.11/dist-packages (from faker) (2025.2)\n",
            "Downloading faker-37.1.0-py3-none-any.whl (1.9 MB)\n",
            "\u001b[2K   \u001b[90m━━━━━━━━━━━━━━━━━━━━━━━━━━━━━━━━━━━━━━━━\u001b[0m \u001b[32m1.9/1.9 MB\u001b[0m \u001b[31m14.3 MB/s\u001b[0m eta \u001b[36m0:00:00\u001b[0m\n",
            "\u001b[?25hInstalling collected packages: faker\n",
            "Successfully installed faker-37.1.0\n"
          ]
        }
      ]
    },
    {
      "cell_type": "code",
      "execution_count": 3,
      "metadata": {
        "colab": {
          "base_uri": "https://localhost:8080/"
        },
        "id": "EH26BvgGjnaV",
        "outputId": "fbc7178e-b038-47c0-e3e4-e86f10ab8459"
      },
      "outputs": [
        {
          "output_type": "stream",
          "name": "stdout",
          "text": [
            "✅ Generated: software_documents/AlphaSoft_v4.6.pdf\n",
            "✅ Generated: software_documents/BetaWare_v3.4.pdf\n",
            "✅ Generated: software_documents/GammaSuite_v2.0.pdf\n",
            "✅ Generated: software_documents/DeltaApp_v1.4.pdf\n",
            "✅ Generated: software_documents/EpsilonTool_v2.0.pdf\n",
            "\n",
            "📂 5 sample software PDFs saved in 'software_documents' folder.\n"
          ]
        }
      ],
      "source": [
        "import os\n",
        "import random\n",
        "from fpdf import FPDF\n",
        "from faker import Faker\n",
        "\n",
        "# Initialize Faker for generating random details\n",
        "fake = Faker()\n",
        "\n",
        "# Sample software names and dependencies\n",
        "software_names = [\"AlphaSoft\", \"BetaWare\", \"GammaSuite\", \"DeltaApp\", \"EpsilonTool\"]\n",
        "dependencies_list = [\n",
        "    [\"LibX 2.1\", \"NetY 1.4\"],\n",
        "    [\"LibX 2.2\", \"DataZ 3.0\"],\n",
        "    [\"GraphV 5.0\", \"NetY 2.0\"],\n",
        "    [\"CoreLib 1.2\", \"DataZ 3.1\"],\n",
        "    [\"AIEngine 3.4\", \"MLToolkit 2.5\"]\n",
        "]\n",
        "\n",
        "# Directory to save generated PDFs\n",
        "output_dir = \"software_documents\"\n",
        "os.makedirs(output_dir, exist_ok=True)\n",
        "\n",
        "def generate_software_document(software_name, version, author, release_date, mod_date, dependencies, filename):\n",
        "    \"\"\"Generate a sample software document in PDF format.\"\"\"\n",
        "    pdf = FPDF()\n",
        "    pdf.set_auto_page_break(auto=True, margin=15)\n",
        "\n",
        "    pdf.add_page()\n",
        "    pdf.set_font(\"Arial\", style='B', size=16)\n",
        "    pdf.cell(200, 10, f\"{software_name} - Software Documentation\", ln=True, align='C')\n",
        "\n",
        "    pdf.ln(10)\n",
        "    pdf.set_font(\"Arial\", size=12)\n",
        "\n",
        "    pdf.cell(200, 10, f\"Software Name: {software_name}\", ln=True)\n",
        "    pdf.cell(200, 10, f\"Version: {version}\", ln=True)\n",
        "    pdf.cell(200, 10, f\"Author: {author}\", ln=True)\n",
        "    pdf.cell(200, 10, f\"Release Date: {release_date.strftime('%Y-%m-%d')}\", ln=True)\n",
        "    pdf.cell(200, 10, f\"Last Modified: {mod_date.strftime('%Y-%m-%d')}\", ln=True)\n",
        "\n",
        "    pdf.ln(5)\n",
        "    pdf.set_font(\"Arial\", style=\"B\", size=12)\n",
        "    pdf.cell(200, 10, \"Dependencies:\", ln=True)\n",
        "\n",
        "    pdf.set_font(\"Arial\", size=12)\n",
        "    for dep in dependencies:\n",
        "        pdf.cell(200, 10, f\"- {dep}\", ln=True)\n",
        "\n",
        "    pdf.ln(10)\n",
        "    pdf.set_font(\"Arial\", style=\"B\", size=12)\n",
        "    pdf.cell(200, 10, \"Description:\", ln=True)\n",
        "\n",
        "    pdf.set_font(\"Arial\", size=12)\n",
        "    pdf.multi_cell(0, 10, f\"{software_name} is an advanced software solution designed for optimal performance and security. Version {version} includes several improvements and fixes.\")\n",
        "\n",
        "    # Save PDF\n",
        "    pdf.output(filename)\n",
        "    print(f\"✅ Generated: {filename}\")\n",
        "\n",
        "# Generate multiple sample PDFs\n",
        "for i, software in enumerate(software_names):\n",
        "    version = f\"{random.randint(1, 5)}.{random.randint(0, 9)}\"\n",
        "    author = fake.name()\n",
        "\n",
        "    release_date = fake.date_this_decade()  # ✅ Keep as a date object\n",
        "    mod_date = fake.date_between(start_date=release_date)  # ✅ Works correctly now\n",
        "\n",
        "    dependencies = dependencies_list[i]\n",
        "    filename = os.path.join(output_dir, f\"{software}_v{version}.pdf\")\n",
        "\n",
        "    generate_software_document(software, version, author, release_date, mod_date, dependencies, filename)\n",
        "\n",
        "print(f\"\\n📂 {len(software_names)} sample software PDFs saved in '{output_dir}' folder.\")"
      ]
    },
    {
      "cell_type": "code",
      "source": [
        "!pip install pymupdf"
      ],
      "metadata": {
        "colab": {
          "base_uri": "https://localhost:8080/"
        },
        "id": "pTQfsrrCkz2C",
        "outputId": "22f9e24a-9d51-4dd6-9684-6e7fde7a71a5"
      },
      "execution_count": 4,
      "outputs": [
        {
          "output_type": "stream",
          "name": "stdout",
          "text": [
            "Collecting pymupdf\n",
            "  Downloading pymupdf-1.25.5-cp39-abi3-manylinux2014_x86_64.manylinux_2_17_x86_64.whl.metadata (3.4 kB)\n",
            "Downloading pymupdf-1.25.5-cp39-abi3-manylinux2014_x86_64.manylinux_2_17_x86_64.whl (20.0 MB)\n",
            "\u001b[2K   \u001b[90m━━━━━━━━━━━━━━━━━━━━━━━━━━━━━━━━━━━━━━━━\u001b[0m \u001b[32m20.0/20.0 MB\u001b[0m \u001b[31m55.4 MB/s\u001b[0m eta \u001b[36m0:00:00\u001b[0m\n",
            "\u001b[?25hInstalling collected packages: pymupdf\n",
            "Successfully installed pymupdf-1.25.5\n"
          ]
        }
      ]
    },
    {
      "cell_type": "code",
      "source": [
        "import os\n",
        "import fitz  # PyMuPDF\n",
        "import re\n",
        "import pandas as pd\n",
        "import spacy\n",
        "\n",
        "# Load NLP model\n",
        "nlp = spacy.load(\"en_core_web_sm\")\n",
        "\n",
        "# Define folder paths\n",
        "pdf_folder = \"software_documents\"  # Update with full path if needed\n",
        "output_csv = \"extracted_metadata.csv\"\n",
        "\n",
        "# Define regex patterns\n",
        "patterns = {\n",
        "    \"software_name\": r\"Software Name:\\s*(.+)\",\n",
        "    \"version\": r\"Version:\\s*([\\d.]+)\",\n",
        "    \"author\": r\"Author:\\s*(.+)\",\n",
        "    \"release_date\": r\"Release Date:\\s*([\\d-]+)\",\n",
        "    \"modification_date\": r\"Last Modified:\\s*([\\d-]+)\",\n",
        "    \"dependencies\": r\"Dependencies:\\s*(.+)\"\n",
        "}\n",
        "\n",
        "def extract_metadata_from_text(text):\n",
        "    \"\"\"Extract software metadata using regex & NLP.\"\"\"\n",
        "    metadata = {key: \"N/A\" for key in patterns}\n",
        "\n",
        "    # Regex Extraction\n",
        "    for key, pattern in patterns.items():\n",
        "        match = re.search(pattern, text)\n",
        "        if match:\n",
        "            metadata[key] = match.group(1).strip()\n",
        "\n",
        "    # NLP Extraction (fallback for software name)\n",
        "    if metadata[\"software_name\"] == \"N/A\":\n",
        "        doc = nlp(text)\n",
        "        for ent in doc.ents:\n",
        "            if ent.label_ in [\"ORG\", \"PRODUCT\"]:\n",
        "                metadata[\"software_name\"] = ent.text\n",
        "                break  # First match\n",
        "\n",
        "    return metadata\n",
        "\n",
        "def process_pdfs(folder):\n",
        "    \"\"\"Process all PDFs in a given folder and extract metadata.\"\"\"\n",
        "    if not os.path.exists(folder):\n",
        "        print(f\"❌ Error: Folder '{folder}' does not exist.\")\n",
        "        return\n",
        "\n",
        "    pdf_files = [f for f in os.listdir(folder) if f.endswith(\".pdf\")]\n",
        "\n",
        "    if not pdf_files:\n",
        "        print(f\"⚠ No PDFs found in '{folder}'.\")\n",
        "        return\n",
        "\n",
        "    data = []\n",
        "\n",
        "    for filename in pdf_files:\n",
        "        pdf_path = os.path.join(folder, filename)\n",
        "        doc = fitz.open(pdf_path)\n",
        "\n",
        "        # Extract text from all pages\n",
        "        text = \"\\n\".join(page.get_text(\"text\") for page in doc)\n",
        "\n",
        "        # Extract metadata\n",
        "        metadata = extract_metadata_from_text(text)\n",
        "        metadata[\"filename\"] = filename\n",
        "        data.append(metadata)\n",
        "\n",
        "        print(f\"✅ Extracted: {filename}\")\n",
        "\n",
        "    # Save to CSV\n",
        "    if data:\n",
        "        df = pd.DataFrame(data)\n",
        "        df.to_csv(output_csv, index=False)\n",
        "        print(f\"\\n📂 Metadata saved to {os.path.abspath(output_csv)}\")\n",
        "        # Return the DataFrame\n",
        "        return df\n",
        "    else:\n",
        "        print(\"⚠ No metadata extracted.\")\n",
        "        return None  # Return None if no data is extracted\n",
        "\n",
        "# Run extraction and get the DataFrame\n",
        "df = process_pdfs(pdf_folder)\n",
        "\n",
        "# Check if df is not None before proceeding\n",
        "if df is not None:\n",
        "    summary = {\n",
        "        \"Total Software\": df[\"software_name\"].nunique(),\n",
        "        \"Total Versions\": df[\"version\"].nunique(),\n",
        "        \"Total Unique Dependencies\": df[\"dependencies\"].nunique(),\n",
        "        \"Most Common Software\": df[\"software_name\"].value_counts().idxmax(),\n",
        "        \"Most Common Version\": df[\"version\"].value_counts().idxmax(),\n",
        "    }\n",
        "\n",
        "    summary_df = pd.DataFrame([summary])\n",
        "    summary_df.to_csv(\"metadata_summary.csv\", index=False)\n",
        "\n",
        "    print(\"✅ Summary report saved as 'metadata_summary.csv'\")\n",
        "else:\n",
        "    print(\"❌ Could not generate summary report because no data was extracted.\")"
      ],
      "metadata": {
        "colab": {
          "base_uri": "https://localhost:8080/"
        },
        "id": "rT3_HHTyj_at",
        "outputId": "59b7310f-3442-4d8e-b5a5-cd507bb7470e"
      },
      "execution_count": 5,
      "outputs": [
        {
          "output_type": "stream",
          "name": "stdout",
          "text": [
            "✅ Extracted: BetaWare_v3.4.pdf\n",
            "✅ Extracted: AlphaSoft_v4.6.pdf\n",
            "✅ Extracted: EpsilonTool_v2.0.pdf\n",
            "✅ Extracted: GammaSuite_v2.0.pdf\n",
            "✅ Extracted: DeltaApp_v1.4.pdf\n",
            "\n",
            "📂 Metadata saved to /content/extracted_metadata.csv\n",
            "✅ Summary report saved as 'metadata_summary.csv'\n"
          ]
        }
      ]
    },
    {
      "cell_type": "markdown",
      "source": [
        "## **TASK 2**\n",
        "### Software Dependency Management for Upgrades\n",
        "- Refer to a master sheet containing multiple software and their version dependencies.\n",
        "- Use an existing installed software list and their versions to analyze dependencies.\n",
        "- Allow users to define upgrade criteria (e.g., minimum upgrades or always latest).\n",
        "- Recommend necessary upgrades for dependent software to maintain compatibility."
      ],
      "metadata": {
        "id": "xOzGD7oHqz5n"
      }
    },
    {
      "cell_type": "code",
      "source": [
        "import pandas as pd\n",
        "\n",
        "# Load extracted metadata\n",
        "df = pd.read_csv(\"extracted_metadata.csv\")\n",
        "\n",
        "# Display first few rows\n",
        "print(df.head())"
      ],
      "metadata": {
        "colab": {
          "base_uri": "https://localhost:8080/"
        },
        "id": "Te9IKoJdkrvZ",
        "outputId": "a6c7dcf5-1b3a-43c4-b4f2-34d661b3f3ac"
      },
      "execution_count": 6,
      "outputs": [
        {
          "output_type": "stream",
          "name": "stdout",
          "text": [
            "  software_name  version              author release_date modification_date  \\\n",
            "0      BetaWare      3.4          Jamie Rice   2024-06-23        2024-08-07   \n",
            "1     AlphaSoft      4.6         Craig Jones   2020-01-26        2022-02-28   \n",
            "2   EpsilonTool      2.0  Jennifer Rodriguez   2020-08-16        2021-04-01   \n",
            "3    GammaSuite      2.0        Victor Lynch   2024-05-05        2024-08-08   \n",
            "4      DeltaApp      1.4    Christopher Diaz   2022-07-14        2023-09-26   \n",
            "\n",
            "     dependencies              filename  \n",
            "0      - LibX 2.2     BetaWare_v3.4.pdf  \n",
            "1      - LibX 2.1    AlphaSoft_v4.6.pdf  \n",
            "2  - AIEngine 3.4  EpsilonTool_v2.0.pdf  \n",
            "3    - GraphV 5.0   GammaSuite_v2.0.pdf  \n",
            "4   - CoreLib 1.2     DeltaApp_v1.4.pdf  \n"
          ]
        }
      ]
    },
    {
      "cell_type": "code",
      "source": [
        "# Convert version column to a proper format for sorting\n",
        "df[\"version\"] = df[\"version\"].astype(str)  # Ensure version is a string\n",
        "df[\"version\"] = df[\"version\"].apply(lambda x: tuple(map(int, x.split(\".\"))) if \".\" in x else (int(x),))\n",
        "\n",
        "# Sort the dataframe by software name and version\n",
        "df = df.sort_values(by=[\"software_name\", \"version\"])"
      ],
      "metadata": {
        "id": "iyeYFUa4k_YX"
      },
      "execution_count": 7,
      "outputs": []
    },
    {
      "cell_type": "code",
      "source": [
        "# Create an upgrade path mapping\n",
        "df[\"next_version\"] = df.groupby(\"software_name\")[\"version\"].shift(-1)"
      ],
      "metadata": {
        "id": "yddu0DsalnPU"
      },
      "execution_count": 8,
      "outputs": []
    },
    {
      "cell_type": "code",
      "source": [
        "# Convert dependencies into lists for easy matching\n",
        "df[\"dependencies\"] = df[\"dependencies\"].fillna(\"N/A\").apply(lambda x: x.split(\", \") if x != \"N/A\" else [])\n",
        "\n",
        "# Create a column for required upgrades based on dependencies\n",
        "def find_required_upgrades(row):\n",
        "    required_upgrades = []\n",
        "    for dep in row[\"dependencies\"]:\n",
        "        # Find the latest version of the dependency\n",
        "        latest_version = df[df[\"software_name\"] == dep][\"version\"].max()\n",
        "        if latest_version:\n",
        "            required_upgrades.append(f\"{dep} → {latest_version}\")\n",
        "    return \", \".join(required_upgrades) if required_upgrades else \"None\"\n",
        "\n",
        "df[\"required_upgrades\"] = df.apply(find_required_upgrades, axis=1)"
      ],
      "metadata": {
        "id": "SeLogxoBltD_"
      },
      "execution_count": 9,
      "outputs": []
    },
    {
      "cell_type": "code",
      "source": [
        "import pandas as pd\n",
        "\n",
        "# ... (Your previous code to process and modify the DataFrame 'df') ...\n",
        "\n",
        "# Save the processed DataFrame\n",
        "df.to_csv(\"updated_master_sheet.csv\", index=False)\n",
        "\n",
        "# Now you can load the saved file\n",
        "df = pd.read_csv(\"updated_master_sheet.csv\")\n",
        "\n",
        "# Display the first few rows\n",
        "print(df.head())"
      ],
      "metadata": {
        "colab": {
          "base_uri": "https://localhost:8080/"
        },
        "id": "SuSAY2rXlxJh",
        "outputId": "aa8efbcf-396d-41e0-9bec-969202e11743"
      },
      "execution_count": 10,
      "outputs": [
        {
          "output_type": "stream",
          "name": "stdout",
          "text": [
            "  software_name version              author release_date modification_date  \\\n",
            "0     AlphaSoft  (4, 6)         Craig Jones   2020-01-26        2022-02-28   \n",
            "1      BetaWare  (3, 4)          Jamie Rice   2024-06-23        2024-08-07   \n",
            "2      DeltaApp  (1, 4)    Christopher Diaz   2022-07-14        2023-09-26   \n",
            "3   EpsilonTool  (2, 0)  Jennifer Rodriguez   2020-08-16        2021-04-01   \n",
            "4    GammaSuite  (2, 0)        Victor Lynch   2024-05-05        2024-08-08   \n",
            "\n",
            "         dependencies              filename  next_version  \\\n",
            "0      ['- LibX 2.1']    AlphaSoft_v4.6.pdf           NaN   \n",
            "1      ['- LibX 2.2']     BetaWare_v3.4.pdf           NaN   \n",
            "2   ['- CoreLib 1.2']     DeltaApp_v1.4.pdf           NaN   \n",
            "3  ['- AIEngine 3.4']  EpsilonTool_v2.0.pdf           NaN   \n",
            "4    ['- GraphV 5.0']   GammaSuite_v2.0.pdf           NaN   \n",
            "\n",
            "      required_upgrades  \n",
            "0      - LibX 2.1 → nan  \n",
            "1      - LibX 2.2 → nan  \n",
            "2   - CoreLib 1.2 → nan  \n",
            "3  - AIEngine 3.4 → nan  \n",
            "4    - GraphV 5.0 → nan  \n"
          ]
        }
      ]
    },
    {
      "cell_type": "code",
      "source": [
        "import networkx as nx\n",
        "\n",
        "# Create a directed graph\n",
        "G = nx.DiGraph()\n",
        "\n",
        "# Add nodes (Software)\n",
        "for software in df[\"software_name\"].unique():\n",
        "    G.add_node(software)\n",
        "\n",
        "# Add edges (Dependencies)\n",
        "for _, row in df.iterrows():\n",
        "    for dep in row[\"dependencies\"].split(\", \"):\n",
        "        if dep != \"N/A\":\n",
        "            G.add_edge(dep, row[\"software_name\"])  # Dependency direction\n",
        "\n",
        "# Visualize dependency graph\n",
        "import matplotlib.pyplot as plt\n",
        "plt.figure(figsize=(10, 6))\n",
        "nx.draw(G, with_labels=True, node_color=\"lightblue\", edge_color=\"gray\", node_size=2000, font_size=10)\n",
        "plt.title(\"Software Dependency Graph\")\n",
        "plt.show()"
      ],
      "metadata": {
        "colab": {
          "base_uri": "https://localhost:8080/",
          "height": 413
        },
        "id": "lZMi-hI9l2wc",
        "outputId": "b2b78adf-f1bd-43d3-e2f8-257f39520f06"
      },
      "execution_count": 11,
      "outputs": [
        {
          "output_type": "display_data",
          "data": {
            "text/plain": [
              "<Figure size 1000x600 with 1 Axes>"
            ],
            "image/png": "[encoded data removed]"
          },
          "metadata": {}
        }
      ]
    },
    {
      "cell_type": "code",
      "source": [
        "try:\n",
        "    # Compute a valid installation order using topological sorting\n",
        "    install_order = list(nx.topological_sort(G))\n",
        "    print(\"✅ Recommended Installation Order:\", install_order)\n",
        "except nx.NetworkXUnfeasible:\n",
        "    print(\"❌ ERROR: Circular dependency detected! Check the dependencies.\")"
      ],
      "metadata": {
        "colab": {
          "base_uri": "https://localhost:8080/"
        },
        "id": "MWXFl9QsmY3P",
        "outputId": "91e61ca5-2e78-4795-b11c-4ddb1703694f"
      },
      "execution_count": 12,
      "outputs": [
        {
          "output_type": "stream",
          "name": "stdout",
          "text": [
            "✅ Recommended Installation Order: [\"['- LibX 2.1']\", \"['- LibX 2.2']\", \"['- CoreLib 1.2']\", \"['- AIEngine 3.4']\", \"['- GraphV 5.0']\", 'AlphaSoft', 'BetaWare', 'DeltaApp', 'EpsilonTool', 'GammaSuite']\n"
          ]
        }
      ]
    },
    {
      "cell_type": "code",
      "source": [
        "import pandas as pd\n",
        "import re\n",
        "\n",
        "# Load the master sheet\n",
        "df = pd.read_csv(\"updated_master_sheet.csv\") # changed file name to updated_master_sheet.csv\n",
        "\n",
        "# Extract dependencies and versions\n",
        "dependency_map = {}  # Stores the latest version for each dependency\n",
        "\n",
        "# Step 1: Extract dependency names & versions\n",
        "for deps in df[\"dependencies\"]:\n",
        "    if pd.notna(deps):  # Ignore NaN values\n",
        "        dep_list = eval(deps) if isinstance(deps, str) else deps\n",
        "        for dep in dep_list:\n",
        "            match = re.search(r\"([\\w]+) (\\d+\\.\\d+)\", dep)  # Extract name & version\n",
        "            if match:\n",
        "                dep_name, dep_version = match.groups()\n",
        "                dep_version = float(dep_version)  # Convert version to float\n",
        "\n",
        "                # Update dependency map with the latest version found\n",
        "                if dep_name in dependency_map:\n",
        "                    dependency_map[dep_name] = max(dependency_map[dep_name], dep_version)\n",
        "                else:\n",
        "                    dependency_map[dep_name] = dep_version\n",
        "\n",
        "# Step 2: Find the next available version for each dependency\n",
        "def find_next_version(dependency):\n",
        "    match = re.search(r\"([\\w]+) (\\d+\\.\\d+)\", dependency)\n",
        "    if match:\n",
        "        dep_name, dep_version = match.groups()\n",
        "        dep_version = float(dep_version)\n",
        "\n",
        "        # Check if a newer version exists\n",
        "        if dep_name in dependency_map and dependency_map[dep_name] > dep_version:\n",
        "            return f\"{dep_name} {dep_version} → {dep_name} {dependency_map[dep_name]}\"\n",
        "    return f\"{dependency} → No newer version available\"\n",
        "\n",
        "# Step 3: Apply the function to update required_upgrades\n",
        "df[\"required_upgrades\"] = df[\"dependencies\"].apply(lambda deps: [find_next_version(dep) for dep in eval(deps)] if pd.notna(deps) else \"No Dependencies\")\n",
        "\n",
        "# Save the updated master sheet\n",
        "df.to_csv(\"updated_software_master_sheet.csv\", index=False)\n",
        "print(\"✅ Upgrade mapping completed! Saved as updated_software_master_sheet.csv.\")"
      ],
      "metadata": {
        "colab": {
          "base_uri": "https://localhost:8080/"
        },
        "id": "_vnHjWbnme3u",
        "outputId": "29cb59f0-9756-4ca7-a1a8-aef68b1de8f7"
      },
      "execution_count": 13,
      "outputs": [
        {
          "output_type": "stream",
          "name": "stdout",
          "text": [
            "✅ Upgrade mapping completed! Saved as updated_software_master_sheet.csv.\n"
          ]
        }
      ]
    },
    {
      "cell_type": "code",
      "source": [
        "import pandas as pd\n",
        "import networkx as nx\n",
        "\n",
        "# Load the master sheet\n",
        "df = pd.read_csv(\"updated_software_master_sheet.csv\")\n",
        "\n",
        "# Create a directed graph for dependencies\n",
        "dependency_graph = nx.DiGraph()\n",
        "\n",
        "# Step 1: Add all software to the graph\n",
        "for _, row in df.iterrows():\n",
        "    software = row[\"software_name\"]\n",
        "    dependency_graph.add_node(software)  # Add software to graph\n",
        "\n",
        "    # Extract dependencies\n",
        "    dependencies = eval(row[\"dependencies\"]) if pd.notna(row[\"dependencies\"]) else []\n",
        "    for dep in dependencies:\n",
        "        dep_name = dep.split(\" → \")[-1]  # Extract latest version dependency\n",
        "        dependency_graph.add_edge(dep_name, software)  # Dependency → Software\n",
        "\n",
        "# Step 2: Perform Topological Sorting (Install Dependencies First)\n",
        "try:\n",
        "    install_order = list(nx.topological_sort(dependency_graph))\n",
        "    print(\"✅ Correct Installation Order:\", install_order)\n",
        "except nx.NetworkXUnfeasible:\n",
        "    print(\"❌ Cyclic dependencies detected! Cannot determine order.\")\n",
        "    exit()\n",
        "\n",
        "# Step 3: Generate Installation Script\n",
        "install_script = []\n",
        "for software in install_order:\n",
        "    install_script.append(f\"echo Installing {software}...\")\n",
        "    install_script.append(f\"sudo apt-get install -y {software}\")  # Linux (Modify for Windows)\n",
        "\n",
        "# Save installation script\n",
        "with open(\"install_software.sh\", \"w\") as f:\n",
        "    f.write(\"\\n\".join(install_script))\n",
        "\n",
        "print(\"✅ Installation script saved as install_software.sh\")"
      ],
      "metadata": {
        "colab": {
          "base_uri": "https://localhost:8080/"
        },
        "id": "GpQhSvhImjuW",
        "outputId": "5f0d86b6-e0d6-4fca-fca6-fd935883e794"
      },
      "execution_count": 14,
      "outputs": [
        {
          "output_type": "stream",
          "name": "stdout",
          "text": [
            "✅ Correct Installation Order: ['- LibX 2.1', '- LibX 2.2', '- CoreLib 1.2', '- AIEngine 3.4', '- GraphV 5.0', 'AlphaSoft', 'BetaWare', 'DeltaApp', 'EpsilonTool', 'GammaSuite']\n",
            "✅ Installation script saved as install_software.sh\n"
          ]
        }
      ]
    },
    {
      "cell_type": "code",
      "source": [
        "import pandas as pd\n",
        "import networkx as nx\n",
        "\n",
        "# Load the master sheet\n",
        "df = pd.read_csv(\"updated_software_master_sheet.csv\")\n",
        "\n",
        "# Create a directed graph for dependencies\n",
        "dependency_graph = nx.DiGraph()\n",
        "\n",
        "# Add nodes (software names)\n",
        "for _, row in df.iterrows():\n",
        "    software = row[\"software_name\"]\n",
        "    dependencies = eval(row[\"dependencies\"]) if row[\"dependencies\"] != \"[]\" else []\n",
        "\n",
        "    dependency_graph.add_node(software)\n",
        "\n",
        "    for dep in dependencies:\n",
        "        dependency_graph.add_edge(dep.strip(\"- \"), software)\n",
        "\n",
        "# Get the correct installation order (Topological Sorting)\n",
        "install_order = list(nx.topological_sort(dependency_graph))\n",
        "\n",
        "# Print simulated installation\n",
        "print(\"\\n🚀 Simulated Software Installation Order:\\n\")\n",
        "for software in install_order:\n",
        "    print(f\"[SIMULATION] Installing {software}...\")"
      ],
      "metadata": {
        "colab": {
          "base_uri": "https://localhost:8080/"
        },
        "id": "1mQAc8xsm0eC",
        "outputId": "304b8dee-19f8-43a3-c06a-270ac2ac926f"
      },
      "execution_count": 15,
      "outputs": [
        {
          "output_type": "stream",
          "name": "stdout",
          "text": [
            "\n",
            "🚀 Simulated Software Installation Order:\n",
            "\n",
            "[SIMULATION] Installing LibX 2.1...\n",
            "[SIMULATION] Installing LibX 2.2...\n",
            "[SIMULATION] Installing CoreLib 1.2...\n",
            "[SIMULATION] Installing AIEngine 3.4...\n",
            "[SIMULATION] Installing GraphV 5.0...\n",
            "[SIMULATION] Installing AlphaSoft...\n",
            "[SIMULATION] Installing BetaWare...\n",
            "[SIMULATION] Installing DeltaApp...\n",
            "[SIMULATION] Installing EpsilonTool...\n",
            "[SIMULATION] Installing GammaSuite...\n"
          ]
        }
      ]
    },
    {
      "cell_type": "code",
      "source": [
        "import pandas as pd\n",
        "import networkx as nx\n",
        "import subprocess\n",
        "\n",
        "# Load the master sheet\n",
        "df = pd.read_csv(\"updated_software_master_sheet.csv\")\n",
        "\n",
        "# Create a directed graph for dependencies\n",
        "dependency_graph = nx.DiGraph()\n",
        "\n",
        "# Add nodes (software names)\n",
        "for _, row in df.iterrows():\n",
        "    software = row[\"software_name\"]\n",
        "    dependencies = eval(row[\"dependencies\"]) if row[\"dependencies\"] != \"[]\" else []\n",
        "\n",
        "    dependency_graph.add_node(software)\n",
        "\n",
        "    for dep in dependencies:\n",
        "        dependency_graph.add_edge(dep.strip(\"- \"), software)\n",
        "\n",
        "# Get the correct installation order (Topological Sorting)\n",
        "install_order = list(nx.topological_sort(dependency_graph))\n",
        "\n",
        "# Ask user if they want real installation or simulation\n",
        "install_choice = input(\"\\n🔹 Do you want to perform REAL installation? (yes/no): \").strip().lower()\n",
        "simulate = install_choice != \"yes\"  # If not 'yes', it will simulate\n",
        "\n",
        "# Install software in correct order\n",
        "print(\"\\n🚀 Installation Sequence:\\n\")\n",
        "for software in install_order:\n",
        "    if simulate:\n",
        "        print(f\"[SIMULATION] Installing {software}...\")\n",
        "    else:\n",
        "        print(f\"⚙ Installing {software}...\")\n",
        "        subprocess.run(f\"choco install {software} -y\", shell=True)  # Run the actual command\n",
        "\n",
        "print(\"\\n✅ Installation process completed!\\n\")"
      ],
      "metadata": {
        "colab": {
          "base_uri": "https://localhost:8080/"
        },
        "id": "2JxWQoQ6m6V2",
        "outputId": "e4f269db-fd9a-42e2-a1cb-2b4b6fde144e"
      },
      "execution_count": 16,
      "outputs": [
        {
          "output_type": "stream",
          "name": "stdout",
          "text": [
            "\n",
            "🔹 Do you want to perform REAL installation? (yes/no): no\n",
            "\n",
            "🚀 Installation Sequence:\n",
            "\n",
            "[SIMULATION] Installing LibX 2.1...\n",
            "[SIMULATION] Installing LibX 2.2...\n",
            "[SIMULATION] Installing CoreLib 1.2...\n",
            "[SIMULATION] Installing AIEngine 3.4...\n",
            "[SIMULATION] Installing GraphV 5.0...\n",
            "[SIMULATION] Installing AlphaSoft...\n",
            "[SIMULATION] Installing BetaWare...\n",
            "[SIMULATION] Installing DeltaApp...\n",
            "[SIMULATION] Installing EpsilonTool...\n",
            "[SIMULATION] Installing GammaSuite...\n",
            "\n",
            "✅ Installation process completed!\n",
            "\n"
          ]
        }
      ]
    },
    {
      "cell_type": "markdown",
      "source": [
        "## **TASK 3**\n",
        "### Software Change Notice Analysis\n",
        "- Extract details from Software Change Notices (PDFs) for different software versions.\n",
        "- Compare the current installed version with the target upgrade version.\n",
        "- Provide an accumulated list of:\n",
        "  - New features introduced.\n",
        "  - Fixed issues.\n",
        "  - Known issues (removing duplicates and accounting for fixes).\n",
        "- Output the results in CSV/Markdown format."
      ],
      "metadata": {
        "id": "PNKCrDLqrDyW"
      }
    },
    {
      "cell_type": "code",
      "source": [
        "import pandas as pd\n",
        "\n",
        "# Define the data\n",
        "data = {\n",
        "    \"software_name\": [\"AlphaSoft\", \"BetaWare\", \"DeltaApp\", \"EpsilonTool\", \"GammaSuite\",\n",
        "                      \"AlphaSoft\", \"BetaWare\", \"DeltaApp\", \"EpsilonTool\", \"GammaSuite\"],\n",
        "    \"version\": [\"(3, 8)\", \"(2, 2)\", \"(4, 8)\", \"(4, 8)\", \"(3, 0)\",\n",
        "                \"(3, 9)\", \"(2, 3)\", \"(4, 9)\", \"(4, 9)\", \"(3, 1)\"],\n",
        "    \"author\": [\"Michael Sharp\", \"Mr. Cody Page\", \"April Singh\", \"Joshua Young\", \"Amanda Bailey\",\n",
        "               \"Michael Sharp\", \"Mr. Cody Page\", \"April Singh\", \"Joshua Young\", \"Amanda Bailey\"],\n",
        "    \"release_date\": [\"2023-01-26\", \"2022-07-20\", \"2021-12-27\", \"2024-09-20\", \"2021-08-01\",\n",
        "                     \"TBD\", \"TBD\", \"TBD\", \"TBD\", \"TBD\"],\n",
        "    \"modification_date\": [\"2023-02-09\", \"2022-11-10\", \"2024-12-21\", \"2024-10-21\", \"2025-02-16\",\n",
        "                          \"TBD\", \"TBD\", \"TBD\", \"TBD\", \"TBD\"],\n",
        "    \"dependencies\": [\"['- LibX 2.1']\", \"['- LibX 2.2']\", \"['- CoreLib 1.2']\", \"['- AIEngine 3.4']\", \"['- GraphV 5.0']\",\n",
        "                     \"['- LibX 2.1']\", \"['- LibX 2.2']\", \"['- CoreLib 1.2']\", \"['- AIEngine 3.4']\", \"['- GraphV 5.0']\"],\n",
        "    \"filename\": [\"AlphaSoft_v3.8.pdf\", \"BetaWare_v2.2.pdf\", \"DeltaApp_v4.8.pdf\", \"EpsilonTool_v4.8.pdf\", \"GammaSuite_v3.0.pdf\",\n",
        "                 \"AlphaSoft_v3.8.pdf\", \"BetaWare_v2.2.pdf\", \"DeltaApp_v4.8.pdf\", \"EpsilonTool_v4.8.pdf\", \"GammaSuite_v3.0.pdf\"],\n",
        "    \"next_version\": [\"(3, 9)\", \"(2, 3)\", \"(4, 9)\", \"(4, 9)\", \"(3, 1)\",\n",
        "                     \"No newer version available\", \"No newer version available\", \"No newer version available\", \"No newer version available\", \"No newer version available\"],\n",
        "    \"required_upgrades\": [\"['LibX 2.1 → LibX 2.2']\", \"['- LibX 2.2 → No newer version available']\", \"['- CoreLib 1.2 → No newer version available']\",\n",
        "                           \"['- AIEngine 3.4 → No newer version available']\", \"['- GraphV 5.0 → No newer version available']\",\n",
        "                           \"['LibX 2.1 → LibX 2.2']\", \"['- LibX 2.2 → No newer version available']\", \"['- CoreLib 1.2 → No newer version available']\",\n",
        "                           \"['- AIEngine 3.4 → No newer version available']\", \"['- GraphV 5.0 → No newer version available']\"],\n",
        "    \"new_features\": [\"Enhanced security, Optimized data processing\", \"Added offline mode, Improved file encryption\",\n",
        "                     \"Enhanced AI model, Reduced processing time\", \"Multi-threaded processing, Improved automation\",\n",
        "                     \"Introduced dark mode, Enhanced graph rendering\",\n",
        "                     \"Real-time collaboration, Faster encryption\", \"AI-based file search, New user dashboard\",\n",
        "                     \"New voice command features, Faster AI training\", \"Integrated cloud-based processing, Enhanced analytics\",\n",
        "                     \"Customizable themes, Improved export formats\"],\n",
        "    \"fixed_issues\": [\"Fixed memory leak, Resolved UI glitch\", \"Fixed cloud sync bug, Resolved startup crash\",\n",
        "                     \"Fixed export feature bug, Resolved permission issue\", \"Fixed installation crash, Resolved database corruption\",\n",
        "                     \"Fixed UI scaling issue, Resolved export error\",\n",
        "                     \"Patched security vulnerability, Fixed toolbar bug\", \"Fixed auto-update issue, Resolved sync delay\",\n",
        "                     \"Fixed model loading error, Resolved log overflow\", \"Fixed script execution bug, Resolved import issue\",\n",
        "                     \"Fixed graph distortion bug, Resolved scaling issue\"],\n",
        "    \"known_issues\": [\"High CPU usage under load\", \"Occasional lag on large files\", \"Compatibility issues with legacy GPUs\",\n",
        "                     \"High RAM usage on startup\", \"Graph rendering fails with large datasets\",\n",
        "                     \"Occasional freezes in large projects\", \"UI lag when handling bulk files\",\n",
        "                     \"Compatibility issues with older CPUs\", \"High GPU usage on large computations\",\n",
        "                     \"Performance drops with large datasets\"],\n",
        "    \"version_tuple\": [\"(3, 8)\", \"(2, 2)\", \"(4, 8)\", \"(4, 8)\", \"(3, 0)\",\n",
        "                      \"(3, 9)\", \"(2, 3)\", \"(4, 9)\", \"(4, 9)\", \"(3, 1)\"]\n",
        "}\n",
        "\n",
        "# Convert data to DataFrame\n",
        "df = pd.DataFrame(data)\n",
        "\n",
        "# Save to CSV\n",
        "file_path = \"updated_master_sheet.csv\"\n",
        "df.to_csv(file_path, index=False)\n",
        "\n",
        "print(f\"CSV file saved as {file_path}\")"
      ],
      "metadata": {
        "colab": {
          "base_uri": "https://localhost:8080/"
        },
        "id": "jtsSysSinC4r",
        "outputId": "e6791849-d321-4581-deb0-a4782210bad7"
      },
      "execution_count": 17,
      "outputs": [
        {
          "output_type": "stream",
          "name": "stdout",
          "text": [
            "CSV file saved as updated_master_sheet.csv\n"
          ]
        }
      ]
    },
    {
      "cell_type": "code",
      "source": [
        "import pandas as pd\n",
        "import ast\n",
        "\n",
        "# Load the master sheet\n",
        "master_sheet_path = \"updated_master_sheet.csv\"\n",
        "df = pd.read_csv(master_sheet_path)\n",
        "\n",
        "# Convert version column to tuples for proper sorting\n",
        "df[\"version_tuple\"] = df[\"version\"].apply(lambda x: ast.literal_eval(x))\n",
        "\n",
        "# Function to generate upgrade summary\n",
        "def generate_upgrade_summary(df):\n",
        "    summary_data = []\n",
        "\n",
        "    # Group by software name\n",
        "    software_groups = df.groupby(\"software_name\")\n",
        "\n",
        "    for software, group in software_groups:\n",
        "        group = group.sort_values(\"version_tuple\")  # Sort versions in ascending order\n",
        "        prev_version = None\n",
        "\n",
        "        for _, row in group.iterrows():\n",
        "            if prev_version is not None:\n",
        "                # Extract details from current and previous versions\n",
        "                current_version = prev_version[\"version\"]\n",
        "                upgrade_version = row[\"version\"]\n",
        "\n",
        "                # Handle lists correctly\n",
        "                new_features = ast.literal_eval(row[\"new_features\"]) if isinstance(row[\"new_features\"], str) and row[\"new_features\"].startswith(\"[\") else [row[\"new_features\"]]\n",
        "                fixed_issues = ast.literal_eval(row[\"fixed_issues\"]) if isinstance(row[\"fixed_issues\"], str) and row[\"fixed_issues\"].startswith(\"[\") else [row[\"fixed_issues\"]]\n",
        "                known_issues = ast.literal_eval(row[\"known_issues\"]) if isinstance(row[\"known_issues\"], str) and row[\"known_issues\"].startswith(\"[\") else [row[\"known_issues\"]]\n",
        "\n",
        "                summary_data.append([software, current_version, upgrade_version, \", \".join(new_features), \", \".join(fixed_issues), \", \".join(known_issues)])\n",
        "\n",
        "            prev_version = row\n",
        "\n",
        "    # Create DataFrame for summary\n",
        "    summary_df = pd.DataFrame(summary_data, columns=[\"Software\", \"Current Version\", \"Upgrade Version\", \"New Features\", \"Fixed Issues\", \"Known Issues\"])\n",
        "\n",
        "    return summary_df\n",
        "\n",
        "# Generate the upgrade summary\n",
        "summary_df = generate_upgrade_summary(df)\n",
        "\n",
        "# Save the summary to CSV\n",
        "summary_csv_path = \"software_upgrade_summary.csv\"\n",
        "summary_df.to_csv(summary_csv_path, index=False)\n",
        "\n",
        "print(f\"✅ Upgrade summary saved successfully to {summary_csv_path}\")"
      ],
      "metadata": {
        "colab": {
          "base_uri": "https://localhost:8080/"
        },
        "id": "uHvXWvRznKkO",
        "outputId": "1478f39e-f5e9-485f-c36f-0998176d7163"
      },
      "execution_count": 18,
      "outputs": [
        {
          "output_type": "stream",
          "name": "stdout",
          "text": [
            "✅ Upgrade summary saved successfully to software_upgrade_summary.csv\n"
          ]
        }
      ]
    },
    {
      "cell_type": "code",
      "source": [],
      "metadata": {
        "id": "N_uxx8M3nQHj"
      },
      "execution_count": null,
      "outputs": []
    }
  ]
}